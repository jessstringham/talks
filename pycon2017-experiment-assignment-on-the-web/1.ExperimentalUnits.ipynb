{
 "cells": [
  {
   "cell_type": "markdown",
   "metadata": {},
   "source": [
    "# Experimental Units\n",
    "\n",
    "In this notebook, I'll try to implement `choose_color_assignment` without considering experimental units."
   ]
  },
  {
   "cell_type": "code",
   "execution_count": 1,
   "metadata": {
    "collapsed": true
   },
   "outputs": [],
   "source": [
    "import random\n",
    "from utils.pretty import pp\n",
    "from utils.simulate import n_different_users\n",
    "from utils.simulate import same_user_n_times"
   ]
  },
  {
   "cell_type": "markdown",
   "metadata": {
    "collapsed": true
   },
   "source": [
    "## Randomly assigning, without experimental units\n",
    "\n",
    "I could try using `random.choice` to implement `choose_color_assignment`.\n",
    "\n",
    "Here are the rules I'll consider:\n",
    "\n",
    "* ① Given a user_id, return the string of the color to show\n",
    "* ② The same user_id is assigned to the same color\n",
    "* ③ Different user_ids are randomly assigned\n",
    "* ④ The proportion of user_ids that see red and blue is roughly 50-50\n",
    "\n",
    "I'm going to reorder this slightly and save ② for last."
   ]
  },
  {
   "cell_type": "code",
   "execution_count": 2,
   "metadata": {
    "collapsed": true
   },
   "outputs": [],
   "source": [
    "def bad_choose_color_assignment(user_id):\n",
    "    return random.choice(['red', 'blue'])"
   ]
  },
  {
   "cell_type": "markdown",
   "metadata": {},
   "source": [
    "### ① Given a user_id, return the string of the color to show ✅"
   ]
  },
  {
   "cell_type": "code",
   "execution_count": 3,
   "metadata": {},
   "outputs": [
    {
     "data": {
      "text/plain": [
       "'red'"
      ]
     },
     "execution_count": 3,
     "metadata": {},
     "output_type": "execute_result"
    }
   ],
   "source": [
    "bad_choose_color_assignment(user_id=1)"
   ]
  },
  {
   "cell_type": "markdown",
   "metadata": {},
   "source": [
    "### ③ and ④, different user_ids are randomly assigned and the proportion is roughly 50-50 ✅ \n",
    "\n",
    "If I look at 10000 different users, it's around 50% red and half blue, like I want. "
   ]
  },
  {
   "cell_type": "code",
   "execution_count": 4,
   "metadata": {},
   "outputs": [
    {
     "data": {
      "text/html": [
       "<div>\n",
       "<style>\n",
       "    .dataframe thead tr:only-child th {\n",
       "        text-align: right;\n",
       "    }\n",
       "\n",
       "    .dataframe thead th {\n",
       "        text-align: left;\n",
       "    }\n",
       "\n",
       "    .dataframe tbody tr th {\n",
       "        vertical-align: top;\n",
       "    }\n",
       "</style>\n",
       "<table border=\"1\" class=\"dataframe\">\n",
       "  <thead>\n",
       "    <tr style=\"text-align: right;\">\n",
       "      <th></th>\n",
       "      <th>user_id</th>\n",
       "    </tr>\n",
       "    <tr>\n",
       "      <th>color</th>\n",
       "      <th></th>\n",
       "    </tr>\n",
       "  </thead>\n",
       "  <tbody>\n",
       "    <tr>\n",
       "      <th>blue</th>\n",
       "      <td>5088</td>\n",
       "    </tr>\n",
       "    <tr>\n",
       "      <th>red</th>\n",
       "      <td>4912</td>\n",
       "    </tr>\n",
       "  </tbody>\n",
       "</table>\n",
       "</div>"
      ],
      "text/plain": [
       "       user_id\n",
       "color         \n",
       "blue      5088\n",
       "red       4912"
      ]
     },
     "execution_count": 4,
     "metadata": {},
     "output_type": "execute_result"
    }
   ],
   "source": [
    "n_different_users(bad_choose_color_assignment, n=10000).groupby('color').count()"
   ]
  },
  {
   "cell_type": "markdown",
   "metadata": {},
   "source": [
    "### ② The same user_id is assigned to the same color ❌\n",
    "\n",
    "I'm not showing the same user_id the same color."
   ]
  },
  {
   "cell_type": "code",
   "execution_count": 5,
   "metadata": {},
   "outputs": [
    {
     "data": {
      "text/html": [
       "<style  type=\"text/css\" >\n",
       "    #T_a5dbfda8_3c4c_11e7_a44f_109add6da4a2 .row_heading, .blank {\n",
       "          display: none;;\n",
       "    }    #T_a5dbfda8_3c4c_11e7_a44f_109add6da4a2row0_col1 {\n",
       "            color:  red;\n",
       "             background-color:  red;\n",
       "        }    #T_a5dbfda8_3c4c_11e7_a44f_109add6da4a2row1_col1 {\n",
       "            color:  blue;\n",
       "             background-color:  blue;\n",
       "        }    #T_a5dbfda8_3c4c_11e7_a44f_109add6da4a2row2_col1 {\n",
       "            color:  red;\n",
       "             background-color:  red;\n",
       "        }    #T_a5dbfda8_3c4c_11e7_a44f_109add6da4a2row3_col1 {\n",
       "            color:  red;\n",
       "             background-color:  red;\n",
       "        }    #T_a5dbfda8_3c4c_11e7_a44f_109add6da4a2row4_col1 {\n",
       "            color:  blue;\n",
       "             background-color:  blue;\n",
       "        }    #T_a5dbfda8_3c4c_11e7_a44f_109add6da4a2row5_col1 {\n",
       "            color:  red;\n",
       "             background-color:  red;\n",
       "        }    #T_a5dbfda8_3c4c_11e7_a44f_109add6da4a2row6_col1 {\n",
       "            color:  blue;\n",
       "             background-color:  blue;\n",
       "        }    #T_a5dbfda8_3c4c_11e7_a44f_109add6da4a2row7_col1 {\n",
       "            color:  red;\n",
       "             background-color:  red;\n",
       "        }    #T_a5dbfda8_3c4c_11e7_a44f_109add6da4a2row8_col1 {\n",
       "            color:  blue;\n",
       "             background-color:  blue;\n",
       "        }    #T_a5dbfda8_3c4c_11e7_a44f_109add6da4a2row9_col1 {\n",
       "            color:  red;\n",
       "             background-color:  red;\n",
       "        }</style>  \n",
       "<table id=\"T_a5dbfda8_3c4c_11e7_a44f_109add6da4a2\" > \n",
       "<thead>    <tr> \n",
       "        <th class=\"blank level0\" ></th> \n",
       "        <th class=\"col_heading level0 col0\" >user_id</th> \n",
       "        <th class=\"col_heading level0 col1\" >color</th> \n",
       "    </tr></thead> \n",
       "<tbody>    <tr> \n",
       "        <th id=\"T_a5dbfda8_3c4c_11e7_a44f_109add6da4a2\" class=\"row_heading level0 row0\" >0</th> \n",
       "        <td id=\"T_a5dbfda8_3c4c_11e7_a44f_109add6da4a2row0_col0\" class=\"data row0 col0\" >1</td> \n",
       "        <td id=\"T_a5dbfda8_3c4c_11e7_a44f_109add6da4a2row0_col1\" class=\"data row0 col1\" >red</td> \n",
       "    </tr>    <tr> \n",
       "        <th id=\"T_a5dbfda8_3c4c_11e7_a44f_109add6da4a2\" class=\"row_heading level0 row1\" >1</th> \n",
       "        <td id=\"T_a5dbfda8_3c4c_11e7_a44f_109add6da4a2row1_col0\" class=\"data row1 col0\" >1</td> \n",
       "        <td id=\"T_a5dbfda8_3c4c_11e7_a44f_109add6da4a2row1_col1\" class=\"data row1 col1\" >blue</td> \n",
       "    </tr>    <tr> \n",
       "        <th id=\"T_a5dbfda8_3c4c_11e7_a44f_109add6da4a2\" class=\"row_heading level0 row2\" >2</th> \n",
       "        <td id=\"T_a5dbfda8_3c4c_11e7_a44f_109add6da4a2row2_col0\" class=\"data row2 col0\" >1</td> \n",
       "        <td id=\"T_a5dbfda8_3c4c_11e7_a44f_109add6da4a2row2_col1\" class=\"data row2 col1\" >red</td> \n",
       "    </tr>    <tr> \n",
       "        <th id=\"T_a5dbfda8_3c4c_11e7_a44f_109add6da4a2\" class=\"row_heading level0 row3\" >3</th> \n",
       "        <td id=\"T_a5dbfda8_3c4c_11e7_a44f_109add6da4a2row3_col0\" class=\"data row3 col0\" >1</td> \n",
       "        <td id=\"T_a5dbfda8_3c4c_11e7_a44f_109add6da4a2row3_col1\" class=\"data row3 col1\" >red</td> \n",
       "    </tr>    <tr> \n",
       "        <th id=\"T_a5dbfda8_3c4c_11e7_a44f_109add6da4a2\" class=\"row_heading level0 row4\" >4</th> \n",
       "        <td id=\"T_a5dbfda8_3c4c_11e7_a44f_109add6da4a2row4_col0\" class=\"data row4 col0\" >1</td> \n",
       "        <td id=\"T_a5dbfda8_3c4c_11e7_a44f_109add6da4a2row4_col1\" class=\"data row4 col1\" >blue</td> \n",
       "    </tr>    <tr> \n",
       "        <th id=\"T_a5dbfda8_3c4c_11e7_a44f_109add6da4a2\" class=\"row_heading level0 row5\" >5</th> \n",
       "        <td id=\"T_a5dbfda8_3c4c_11e7_a44f_109add6da4a2row5_col0\" class=\"data row5 col0\" >1</td> \n",
       "        <td id=\"T_a5dbfda8_3c4c_11e7_a44f_109add6da4a2row5_col1\" class=\"data row5 col1\" >red</td> \n",
       "    </tr>    <tr> \n",
       "        <th id=\"T_a5dbfda8_3c4c_11e7_a44f_109add6da4a2\" class=\"row_heading level0 row6\" >6</th> \n",
       "        <td id=\"T_a5dbfda8_3c4c_11e7_a44f_109add6da4a2row6_col0\" class=\"data row6 col0\" >1</td> \n",
       "        <td id=\"T_a5dbfda8_3c4c_11e7_a44f_109add6da4a2row6_col1\" class=\"data row6 col1\" >blue</td> \n",
       "    </tr>    <tr> \n",
       "        <th id=\"T_a5dbfda8_3c4c_11e7_a44f_109add6da4a2\" class=\"row_heading level0 row7\" >7</th> \n",
       "        <td id=\"T_a5dbfda8_3c4c_11e7_a44f_109add6da4a2row7_col0\" class=\"data row7 col0\" >1</td> \n",
       "        <td id=\"T_a5dbfda8_3c4c_11e7_a44f_109add6da4a2row7_col1\" class=\"data row7 col1\" >red</td> \n",
       "    </tr>    <tr> \n",
       "        <th id=\"T_a5dbfda8_3c4c_11e7_a44f_109add6da4a2\" class=\"row_heading level0 row8\" >8</th> \n",
       "        <td id=\"T_a5dbfda8_3c4c_11e7_a44f_109add6da4a2row8_col0\" class=\"data row8 col0\" >1</td> \n",
       "        <td id=\"T_a5dbfda8_3c4c_11e7_a44f_109add6da4a2row8_col1\" class=\"data row8 col1\" >blue</td> \n",
       "    </tr>    <tr> \n",
       "        <th id=\"T_a5dbfda8_3c4c_11e7_a44f_109add6da4a2\" class=\"row_heading level0 row9\" >9</th> \n",
       "        <td id=\"T_a5dbfda8_3c4c_11e7_a44f_109add6da4a2row9_col0\" class=\"data row9 col0\" >1</td> \n",
       "        <td id=\"T_a5dbfda8_3c4c_11e7_a44f_109add6da4a2row9_col1\" class=\"data row9 col1\" >red</td> \n",
       "    </tr></tbody> \n",
       "</table> "
      ],
      "text/plain": [
       "<pandas.io.formats.style.Styler at 0x10460e4a8>"
      ]
     },
     "execution_count": 5,
     "metadata": {},
     "output_type": "execute_result"
    }
   ],
   "source": [
    "pp(\n",
    "    same_user_n_times(bad_choose_color_assignment, n=10)\n",
    ")"
   ]
  },
  {
   "cell_type": "markdown",
   "metadata": {},
   "source": [
    "## What this means in practice\n",
    "\n",
    "In this case, the experimental_unit *depends on where we call `bad_choose_color_assignment`*. This can have unintended consequences. If we called `bad_choose_color_assignment` once per page request, a user could get different assignments each time they visit a page! That can be a bad user experience and impact metrics.\n",
    "\n",
    "\n",
    "### Different Experimental Units\n",
    "\n",
    "In these notebooks, I'll use `user_id` as my experimental unit. There are others, like `user_id+day`, which means every day we'll assign a user something independently. Even `page request` could be a valid experimental unit for another experiment. \n",
    "\n",
    "### Experimental units and metrics\n",
    "\n",
    "In either case, I'd want to consider the user experience and the impact on metrics. Page request could work, but I probably don't want to use it for a UX change. I'll also need to be able to compute your metric within that page request, for example, a timing of a call. I couldn't use something like click through rate, since the view might get one assignment and the click might get another."
   ]
  },
  {
   "cell_type": "markdown",
   "metadata": {},
   "source": [
    "## Storing assignments\n",
    "\n",
    "One way to implement assignment with experimental units is to use `random.choice` and store the result."
   ]
  },
  {
   "cell_type": "code",
   "execution_count": 6,
   "metadata": {
    "collapsed": true
   },
   "outputs": [],
   "source": [
    "color_assignments = {}  # user_id -> color\n",
    "\n",
    "def choose_color_assignment(user_id):\n",
    "    if user_id in color_assignments:\n",
    "        return color_assignments[user_id]\n",
    "    else:\n",
    "        color = random.choice(['red', 'blue'])\n",
    "        color_assignments[user_id] = color\n",
    "        return color"
   ]
  },
  {
   "cell_type": "markdown",
   "metadata": {},
   "source": [
    "### ② The same user_id is assigned to the same color ✅"
   ]
  },
  {
   "cell_type": "code",
   "execution_count": 7,
   "metadata": {},
   "outputs": [
    {
     "data": {
      "text/html": [
       "<style  type=\"text/css\" >\n",
       "    #T_a5e5a1ca_3c4c_11e7_813b_109add6da4a2 .row_heading, .blank {\n",
       "          display: none;;\n",
       "    }    #T_a5e5a1ca_3c4c_11e7_813b_109add6da4a2row0_col1 {\n",
       "            color:  red;\n",
       "             background-color:  red;\n",
       "        }    #T_a5e5a1ca_3c4c_11e7_813b_109add6da4a2row1_col1 {\n",
       "            color:  red;\n",
       "             background-color:  red;\n",
       "        }    #T_a5e5a1ca_3c4c_11e7_813b_109add6da4a2row2_col1 {\n",
       "            color:  red;\n",
       "             background-color:  red;\n",
       "        }    #T_a5e5a1ca_3c4c_11e7_813b_109add6da4a2row3_col1 {\n",
       "            color:  red;\n",
       "             background-color:  red;\n",
       "        }    #T_a5e5a1ca_3c4c_11e7_813b_109add6da4a2row4_col1 {\n",
       "            color:  red;\n",
       "             background-color:  red;\n",
       "        }    #T_a5e5a1ca_3c4c_11e7_813b_109add6da4a2row5_col1 {\n",
       "            color:  red;\n",
       "             background-color:  red;\n",
       "        }    #T_a5e5a1ca_3c4c_11e7_813b_109add6da4a2row6_col1 {\n",
       "            color:  red;\n",
       "             background-color:  red;\n",
       "        }    #T_a5e5a1ca_3c4c_11e7_813b_109add6da4a2row7_col1 {\n",
       "            color:  red;\n",
       "             background-color:  red;\n",
       "        }    #T_a5e5a1ca_3c4c_11e7_813b_109add6da4a2row8_col1 {\n",
       "            color:  red;\n",
       "             background-color:  red;\n",
       "        }    #T_a5e5a1ca_3c4c_11e7_813b_109add6da4a2row9_col1 {\n",
       "            color:  red;\n",
       "             background-color:  red;\n",
       "        }</style>  \n",
       "<table id=\"T_a5e5a1ca_3c4c_11e7_813b_109add6da4a2\" > \n",
       "<thead>    <tr> \n",
       "        <th class=\"blank level0\" ></th> \n",
       "        <th class=\"col_heading level0 col0\" >user_id</th> \n",
       "        <th class=\"col_heading level0 col1\" >color</th> \n",
       "    </tr></thead> \n",
       "<tbody>    <tr> \n",
       "        <th id=\"T_a5e5a1ca_3c4c_11e7_813b_109add6da4a2\" class=\"row_heading level0 row0\" >0</th> \n",
       "        <td id=\"T_a5e5a1ca_3c4c_11e7_813b_109add6da4a2row0_col0\" class=\"data row0 col0\" >1</td> \n",
       "        <td id=\"T_a5e5a1ca_3c4c_11e7_813b_109add6da4a2row0_col1\" class=\"data row0 col1\" >red</td> \n",
       "    </tr>    <tr> \n",
       "        <th id=\"T_a5e5a1ca_3c4c_11e7_813b_109add6da4a2\" class=\"row_heading level0 row1\" >1</th> \n",
       "        <td id=\"T_a5e5a1ca_3c4c_11e7_813b_109add6da4a2row1_col0\" class=\"data row1 col0\" >1</td> \n",
       "        <td id=\"T_a5e5a1ca_3c4c_11e7_813b_109add6da4a2row1_col1\" class=\"data row1 col1\" >red</td> \n",
       "    </tr>    <tr> \n",
       "        <th id=\"T_a5e5a1ca_3c4c_11e7_813b_109add6da4a2\" class=\"row_heading level0 row2\" >2</th> \n",
       "        <td id=\"T_a5e5a1ca_3c4c_11e7_813b_109add6da4a2row2_col0\" class=\"data row2 col0\" >1</td> \n",
       "        <td id=\"T_a5e5a1ca_3c4c_11e7_813b_109add6da4a2row2_col1\" class=\"data row2 col1\" >red</td> \n",
       "    </tr>    <tr> \n",
       "        <th id=\"T_a5e5a1ca_3c4c_11e7_813b_109add6da4a2\" class=\"row_heading level0 row3\" >3</th> \n",
       "        <td id=\"T_a5e5a1ca_3c4c_11e7_813b_109add6da4a2row3_col0\" class=\"data row3 col0\" >1</td> \n",
       "        <td id=\"T_a5e5a1ca_3c4c_11e7_813b_109add6da4a2row3_col1\" class=\"data row3 col1\" >red</td> \n",
       "    </tr>    <tr> \n",
       "        <th id=\"T_a5e5a1ca_3c4c_11e7_813b_109add6da4a2\" class=\"row_heading level0 row4\" >4</th> \n",
       "        <td id=\"T_a5e5a1ca_3c4c_11e7_813b_109add6da4a2row4_col0\" class=\"data row4 col0\" >1</td> \n",
       "        <td id=\"T_a5e5a1ca_3c4c_11e7_813b_109add6da4a2row4_col1\" class=\"data row4 col1\" >red</td> \n",
       "    </tr>    <tr> \n",
       "        <th id=\"T_a5e5a1ca_3c4c_11e7_813b_109add6da4a2\" class=\"row_heading level0 row5\" >5</th> \n",
       "        <td id=\"T_a5e5a1ca_3c4c_11e7_813b_109add6da4a2row5_col0\" class=\"data row5 col0\" >1</td> \n",
       "        <td id=\"T_a5e5a1ca_3c4c_11e7_813b_109add6da4a2row5_col1\" class=\"data row5 col1\" >red</td> \n",
       "    </tr>    <tr> \n",
       "        <th id=\"T_a5e5a1ca_3c4c_11e7_813b_109add6da4a2\" class=\"row_heading level0 row6\" >6</th> \n",
       "        <td id=\"T_a5e5a1ca_3c4c_11e7_813b_109add6da4a2row6_col0\" class=\"data row6 col0\" >1</td> \n",
       "        <td id=\"T_a5e5a1ca_3c4c_11e7_813b_109add6da4a2row6_col1\" class=\"data row6 col1\" >red</td> \n",
       "    </tr>    <tr> \n",
       "        <th id=\"T_a5e5a1ca_3c4c_11e7_813b_109add6da4a2\" class=\"row_heading level0 row7\" >7</th> \n",
       "        <td id=\"T_a5e5a1ca_3c4c_11e7_813b_109add6da4a2row7_col0\" class=\"data row7 col0\" >1</td> \n",
       "        <td id=\"T_a5e5a1ca_3c4c_11e7_813b_109add6da4a2row7_col1\" class=\"data row7 col1\" >red</td> \n",
       "    </tr>    <tr> \n",
       "        <th id=\"T_a5e5a1ca_3c4c_11e7_813b_109add6da4a2\" class=\"row_heading level0 row8\" >8</th> \n",
       "        <td id=\"T_a5e5a1ca_3c4c_11e7_813b_109add6da4a2row8_col0\" class=\"data row8 col0\" >1</td> \n",
       "        <td id=\"T_a5e5a1ca_3c4c_11e7_813b_109add6da4a2row8_col1\" class=\"data row8 col1\" >red</td> \n",
       "    </tr>    <tr> \n",
       "        <th id=\"T_a5e5a1ca_3c4c_11e7_813b_109add6da4a2\" class=\"row_heading level0 row9\" >9</th> \n",
       "        <td id=\"T_a5e5a1ca_3c4c_11e7_813b_109add6da4a2row9_col0\" class=\"data row9 col0\" >1</td> \n",
       "        <td id=\"T_a5e5a1ca_3c4c_11e7_813b_109add6da4a2row9_col1\" class=\"data row9 col1\" >red</td> \n",
       "    </tr></tbody> \n",
       "</table> "
      ],
      "text/plain": [
       "<pandas.io.formats.style.Styler at 0x1074baeb8>"
      ]
     },
     "execution_count": 7,
     "metadata": {},
     "output_type": "execute_result"
    }
   ],
   "source": [
    "pp(\n",
    "    same_user_n_times(choose_color_assignment, n=10)\n",
    ")"
   ]
  },
  {
   "cell_type": "markdown",
   "metadata": {},
   "source": [
    "# Summary\n",
    "\n",
    "In this section, I introduced experimental units by showing a `choose_color_assignment` implementation that doesn't consider the experimental unit.\n",
    "\n",
    "\n",
    "# [Next: Deterministic Assignment](2.DeterministicAssignment.ipynb)\n",
    "\n",
    "Storing the assignment isn't the only way. Next, I'll implement deterministic assignment."
   ]
  },
  {
   "cell_type": "markdown",
   "metadata": {
    "collapsed": true
   },
   "source": [
    "# TOC\n",
    "- **[0. Introduction](0.Introduction.ipynb)**: What a good `choose_color_assignment` function looks like.\n",
    "- **[1. Experimental Units](1.ExperimentalUnits.ipynb)**: What happens when I don't pay attention to experimental units.\n",
    "- **[2. Deterministic Assignment](2.DeterministicAssignment.ipynb)**: What it looks like to deterministically assign\n",
    "- **[3. Scaling](3.Scaling.ipynb)**: How not to run two experiments at the same time.\n",
    "- **[4. Rollout](4.Rollout.ipynb)**: How to gradually show users a new experiment."
   ]
  }
 ],
 "metadata": {
  "kernelspec": {
   "display_name": "Python 3",
   "language": "python",
   "name": "python3"
  },
  "language_info": {
   "codemirror_mode": {
    "name": "ipython",
    "version": 3
   },
   "file_extension": ".py",
   "mimetype": "text/x-python",
   "name": "python",
   "nbconvert_exporter": "python",
   "pygments_lexer": "ipython3",
   "version": "3.5.2"
  }
 },
 "nbformat": 4,
 "nbformat_minor": 1
}

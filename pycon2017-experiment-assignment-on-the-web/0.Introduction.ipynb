{
 "cells": [
  {
   "cell_type": "markdown",
   "metadata": {},
   "source": [
    "# Experiment Assignment on the Web: Introduction\n",
    "\n",
    "This is supplemental material for my PyCon talk. It has code samples. It also covers some things I really wanted to talk about but didn't have time for.\n",
    "\n",
    "In these notebooks, I'll implement `choose_color_assignment`, a function that does experiment assignment. In this notebook, I'll introduce the goals of experiment assignment, and show what a good function looks like."
   ]
  },
  {
   "cell_type": "markdown",
   "metadata": {},
   "source": [
    "## Table of Contents\n",
    "- **[0. Introduction](0.Introduction.ipynb)**: What a good `choose_color_assignment` function looks like.\n",
    "- **[1. Experimental Units](1.ExperimentalUnits.ipynb)**: What happens when I don't pay attention to experimental units.\n",
    "- **[2. Deterministic Assignment](2.DeterministicAssignment.ipynb)**: What it looks like to deterministically assign\n",
    "- **[3. Scaling](3.Scaling.ipynb)**: How not to run two experiments at the same time (salts)\n",
    "- **[4. Rollout](4.Rollout.ipynb)**: How to gradually show users a new experiment (assignment groups)"
   ]
  },
  {
   "cell_type": "code",
   "execution_count": 1,
   "metadata": {
    "collapsed": true
   },
   "outputs": [],
   "source": [
    "# The utils folder has helper code\n",
    "from utils import spoilers\n",
    "from utils.pretty import pp\n",
    "from utils.simulate import same_user_n_times\n",
    "from utils.simulate import n_different_users"
   ]
  },
  {
   "cell_type": "markdown",
   "metadata": {},
   "source": [
    "## Goal of Experiment Assignment\n",
    "\n",
    "In general, experiment assignment's main purpose is to randomly assign an experimental unit to a variant.\n",
    "\n",
    "The function `choose_color_assignment` will assign the experimental units, `user_ids`, so half of the users see 'red' and the other half see 'blue'.\n",
    "\n",
    "<img width=33% src=\"files/abtest.png\">"
   ]
  },
  {
   "cell_type": "markdown",
   "metadata": {},
   "source": [
    "## Spoilers\n",
    "\n",
    "This is what I think a good `choose_color_assignment` should do:\n",
    "\n",
    "* ① Given a user_id, return the string of the color to show\n",
    "* ② The same user_id is assigned to the same color\n",
    "* ③ Different user_ids are randomly assigned\n",
    "* ④ The proportion of user_ids that see red and blue is roughly 50-50\n",
    "\n",
    "### ① Given a user_id, return the string of the color to show"
   ]
  },
  {
   "cell_type": "code",
   "execution_count": 2,
   "metadata": {},
   "outputs": [
    {
     "data": {
      "text/plain": [
       "'red'"
      ]
     },
     "execution_count": 2,
     "metadata": {},
     "output_type": "execute_result"
    }
   ],
   "source": [
    "# This says we should show the 'blue' variant to user_id 1.\n",
    "spoilers.choose_color_assignment(user_id=1)"
   ]
  },
  {
   "cell_type": "markdown",
   "metadata": {},
   "source": [
    "### ② The same user_id is assigned to the same color"
   ]
  },
  {
   "cell_type": "code",
   "execution_count": 3,
   "metadata": {},
   "outputs": [
    {
     "data": {
      "text/plain": [
       "'red'"
      ]
     },
     "execution_count": 3,
     "metadata": {},
     "output_type": "execute_result"
    }
   ],
   "source": [
    "# If I try to assign this user again, they should see blue again.\n",
    "spoilers.choose_color_assignment(user_id=1)"
   ]
  },
  {
   "cell_type": "code",
   "execution_count": 4,
   "metadata": {},
   "outputs": [
    {
     "data": {
      "text/html": [
       "<style  type=\"text/css\" >\n",
       "    #T_f91fc15e_3c4c_11e7_bfd0_109add6da4a2 .row_heading, .blank {\n",
       "          display: none;;\n",
       "    }    #T_f91fc15e_3c4c_11e7_bfd0_109add6da4a2row0_col1 {\n",
       "            color:  red;\n",
       "             background-color:  red;\n",
       "        }    #T_f91fc15e_3c4c_11e7_bfd0_109add6da4a2row1_col1 {\n",
       "            color:  red;\n",
       "             background-color:  red;\n",
       "        }    #T_f91fc15e_3c4c_11e7_bfd0_109add6da4a2row2_col1 {\n",
       "            color:  red;\n",
       "             background-color:  red;\n",
       "        }    #T_f91fc15e_3c4c_11e7_bfd0_109add6da4a2row3_col1 {\n",
       "            color:  red;\n",
       "             background-color:  red;\n",
       "        }    #T_f91fc15e_3c4c_11e7_bfd0_109add6da4a2row4_col1 {\n",
       "            color:  red;\n",
       "             background-color:  red;\n",
       "        }    #T_f91fc15e_3c4c_11e7_bfd0_109add6da4a2row5_col1 {\n",
       "            color:  red;\n",
       "             background-color:  red;\n",
       "        }    #T_f91fc15e_3c4c_11e7_bfd0_109add6da4a2row6_col1 {\n",
       "            color:  red;\n",
       "             background-color:  red;\n",
       "        }    #T_f91fc15e_3c4c_11e7_bfd0_109add6da4a2row7_col1 {\n",
       "            color:  red;\n",
       "             background-color:  red;\n",
       "        }    #T_f91fc15e_3c4c_11e7_bfd0_109add6da4a2row8_col1 {\n",
       "            color:  red;\n",
       "             background-color:  red;\n",
       "        }    #T_f91fc15e_3c4c_11e7_bfd0_109add6da4a2row9_col1 {\n",
       "            color:  red;\n",
       "             background-color:  red;\n",
       "        }</style>  \n",
       "<table id=\"T_f91fc15e_3c4c_11e7_bfd0_109add6da4a2\" > \n",
       "<thead>    <tr> \n",
       "        <th class=\"blank level0\" ></th> \n",
       "        <th class=\"col_heading level0 col0\" >user_id</th> \n",
       "        <th class=\"col_heading level0 col1\" >color</th> \n",
       "    </tr></thead> \n",
       "<tbody>    <tr> \n",
       "        <th id=\"T_f91fc15e_3c4c_11e7_bfd0_109add6da4a2\" class=\"row_heading level0 row0\" >0</th> \n",
       "        <td id=\"T_f91fc15e_3c4c_11e7_bfd0_109add6da4a2row0_col0\" class=\"data row0 col0\" >1</td> \n",
       "        <td id=\"T_f91fc15e_3c4c_11e7_bfd0_109add6da4a2row0_col1\" class=\"data row0 col1\" >red</td> \n",
       "    </tr>    <tr> \n",
       "        <th id=\"T_f91fc15e_3c4c_11e7_bfd0_109add6da4a2\" class=\"row_heading level0 row1\" >1</th> \n",
       "        <td id=\"T_f91fc15e_3c4c_11e7_bfd0_109add6da4a2row1_col0\" class=\"data row1 col0\" >1</td> \n",
       "        <td id=\"T_f91fc15e_3c4c_11e7_bfd0_109add6da4a2row1_col1\" class=\"data row1 col1\" >red</td> \n",
       "    </tr>    <tr> \n",
       "        <th id=\"T_f91fc15e_3c4c_11e7_bfd0_109add6da4a2\" class=\"row_heading level0 row2\" >2</th> \n",
       "        <td id=\"T_f91fc15e_3c4c_11e7_bfd0_109add6da4a2row2_col0\" class=\"data row2 col0\" >1</td> \n",
       "        <td id=\"T_f91fc15e_3c4c_11e7_bfd0_109add6da4a2row2_col1\" class=\"data row2 col1\" >red</td> \n",
       "    </tr>    <tr> \n",
       "        <th id=\"T_f91fc15e_3c4c_11e7_bfd0_109add6da4a2\" class=\"row_heading level0 row3\" >3</th> \n",
       "        <td id=\"T_f91fc15e_3c4c_11e7_bfd0_109add6da4a2row3_col0\" class=\"data row3 col0\" >1</td> \n",
       "        <td id=\"T_f91fc15e_3c4c_11e7_bfd0_109add6da4a2row3_col1\" class=\"data row3 col1\" >red</td> \n",
       "    </tr>    <tr> \n",
       "        <th id=\"T_f91fc15e_3c4c_11e7_bfd0_109add6da4a2\" class=\"row_heading level0 row4\" >4</th> \n",
       "        <td id=\"T_f91fc15e_3c4c_11e7_bfd0_109add6da4a2row4_col0\" class=\"data row4 col0\" >1</td> \n",
       "        <td id=\"T_f91fc15e_3c4c_11e7_bfd0_109add6da4a2row4_col1\" class=\"data row4 col1\" >red</td> \n",
       "    </tr>    <tr> \n",
       "        <th id=\"T_f91fc15e_3c4c_11e7_bfd0_109add6da4a2\" class=\"row_heading level0 row5\" >5</th> \n",
       "        <td id=\"T_f91fc15e_3c4c_11e7_bfd0_109add6da4a2row5_col0\" class=\"data row5 col0\" >1</td> \n",
       "        <td id=\"T_f91fc15e_3c4c_11e7_bfd0_109add6da4a2row5_col1\" class=\"data row5 col1\" >red</td> \n",
       "    </tr>    <tr> \n",
       "        <th id=\"T_f91fc15e_3c4c_11e7_bfd0_109add6da4a2\" class=\"row_heading level0 row6\" >6</th> \n",
       "        <td id=\"T_f91fc15e_3c4c_11e7_bfd0_109add6da4a2row6_col0\" class=\"data row6 col0\" >1</td> \n",
       "        <td id=\"T_f91fc15e_3c4c_11e7_bfd0_109add6da4a2row6_col1\" class=\"data row6 col1\" >red</td> \n",
       "    </tr>    <tr> \n",
       "        <th id=\"T_f91fc15e_3c4c_11e7_bfd0_109add6da4a2\" class=\"row_heading level0 row7\" >7</th> \n",
       "        <td id=\"T_f91fc15e_3c4c_11e7_bfd0_109add6da4a2row7_col0\" class=\"data row7 col0\" >1</td> \n",
       "        <td id=\"T_f91fc15e_3c4c_11e7_bfd0_109add6da4a2row7_col1\" class=\"data row7 col1\" >red</td> \n",
       "    </tr>    <tr> \n",
       "        <th id=\"T_f91fc15e_3c4c_11e7_bfd0_109add6da4a2\" class=\"row_heading level0 row8\" >8</th> \n",
       "        <td id=\"T_f91fc15e_3c4c_11e7_bfd0_109add6da4a2row8_col0\" class=\"data row8 col0\" >1</td> \n",
       "        <td id=\"T_f91fc15e_3c4c_11e7_bfd0_109add6da4a2row8_col1\" class=\"data row8 col1\" >red</td> \n",
       "    </tr>    <tr> \n",
       "        <th id=\"T_f91fc15e_3c4c_11e7_bfd0_109add6da4a2\" class=\"row_heading level0 row9\" >9</th> \n",
       "        <td id=\"T_f91fc15e_3c4c_11e7_bfd0_109add6da4a2row9_col0\" class=\"data row9 col0\" >1</td> \n",
       "        <td id=\"T_f91fc15e_3c4c_11e7_bfd0_109add6da4a2row9_col1\" class=\"data row9 col1\" >red</td> \n",
       "    </tr></tbody> \n",
       "</table> "
      ],
      "text/plain": [
       "<pandas.io.formats.style.Styler at 0x1065bd588>"
      ]
     },
     "execution_count": 4,
     "metadata": {},
     "output_type": "execute_result"
    }
   ],
   "source": [
    "# If the user visits 10 times, each time they should see blue.\n",
    "pp(\n",
    "    same_user_n_times(spoilers.choose_color_assignment, n=10)\n",
    ")"
   ]
  },
  {
   "cell_type": "code",
   "execution_count": 5,
   "metadata": {},
   "outputs": [
    {
     "data": {
      "text/html": [
       "<div>\n",
       "<style>\n",
       "    .dataframe thead tr:only-child th {\n",
       "        text-align: right;\n",
       "    }\n",
       "\n",
       "    .dataframe thead th {\n",
       "        text-align: left;\n",
       "    }\n",
       "\n",
       "    .dataframe tbody tr th {\n",
       "        vertical-align: top;\n",
       "    }\n",
       "</style>\n",
       "<table border=\"1\" class=\"dataframe\">\n",
       "  <thead>\n",
       "    <tr style=\"text-align: right;\">\n",
       "      <th></th>\n",
       "      <th>user_id</th>\n",
       "    </tr>\n",
       "    <tr>\n",
       "      <th>color</th>\n",
       "      <th></th>\n",
       "    </tr>\n",
       "  </thead>\n",
       "  <tbody>\n",
       "    <tr>\n",
       "      <th>red</th>\n",
       "      <td>10000</td>\n",
       "    </tr>\n",
       "  </tbody>\n",
       "</table>\n",
       "</div>"
      ],
      "text/plain": [
       "       user_id\n",
       "color         \n",
       "red      10000"
      ]
     },
     "execution_count": 5,
     "metadata": {},
     "output_type": "execute_result"
    }
   ],
   "source": [
    "# Even the 10000th time, they'll be assigned to the same thing!\n",
    "same_user_n_times(spoilers.choose_color_assignment, n=10000).groupby('color').count()"
   ]
  },
  {
   "cell_type": "markdown",
   "metadata": {},
   "source": [
    "### ③ Different user_ids are randomly assigned\n",
    "\n",
    "If I look at different user_ids, they'll be assigned to a variant in a [statistically random](https://en.wikipedia.org/wiki/Statistical_randomness) way. (I'm just going to hint at it being random by showing that the assignments look kind of random.)"
   ]
  },
  {
   "cell_type": "code",
   "execution_count": 6,
   "metadata": {},
   "outputs": [
    {
     "data": {
      "text/html": [
       "<style  type=\"text/css\" >\n",
       "    #T_f940f36c_3c4c_11e7_81a8_109add6da4a2 .row_heading, .blank {\n",
       "          display: none;;\n",
       "    }    #T_f940f36c_3c4c_11e7_81a8_109add6da4a2row0_col1 {\n",
       "            color:  red;\n",
       "             background-color:  red;\n",
       "        }    #T_f940f36c_3c4c_11e7_81a8_109add6da4a2row1_col1 {\n",
       "            color:  red;\n",
       "             background-color:  red;\n",
       "        }    #T_f940f36c_3c4c_11e7_81a8_109add6da4a2row2_col1 {\n",
       "            color:  blue;\n",
       "             background-color:  blue;\n",
       "        }    #T_f940f36c_3c4c_11e7_81a8_109add6da4a2row3_col1 {\n",
       "            color:  red;\n",
       "             background-color:  red;\n",
       "        }    #T_f940f36c_3c4c_11e7_81a8_109add6da4a2row4_col1 {\n",
       "            color:  blue;\n",
       "             background-color:  blue;\n",
       "        }    #T_f940f36c_3c4c_11e7_81a8_109add6da4a2row5_col1 {\n",
       "            color:  blue;\n",
       "             background-color:  blue;\n",
       "        }    #T_f940f36c_3c4c_11e7_81a8_109add6da4a2row6_col1 {\n",
       "            color:  blue;\n",
       "             background-color:  blue;\n",
       "        }    #T_f940f36c_3c4c_11e7_81a8_109add6da4a2row7_col1 {\n",
       "            color:  red;\n",
       "             background-color:  red;\n",
       "        }    #T_f940f36c_3c4c_11e7_81a8_109add6da4a2row8_col1 {\n",
       "            color:  blue;\n",
       "             background-color:  blue;\n",
       "        }    #T_f940f36c_3c4c_11e7_81a8_109add6da4a2row9_col1 {\n",
       "            color:  blue;\n",
       "             background-color:  blue;\n",
       "        }</style>  \n",
       "<table id=\"T_f940f36c_3c4c_11e7_81a8_109add6da4a2\" > \n",
       "<thead>    <tr> \n",
       "        <th class=\"blank level0\" ></th> \n",
       "        <th class=\"col_heading level0 col0\" >user_id</th> \n",
       "        <th class=\"col_heading level0 col1\" >color</th> \n",
       "    </tr></thead> \n",
       "<tbody>    <tr> \n",
       "        <th id=\"T_f940f36c_3c4c_11e7_81a8_109add6da4a2\" class=\"row_heading level0 row0\" >0</th> \n",
       "        <td id=\"T_f940f36c_3c4c_11e7_81a8_109add6da4a2row0_col0\" class=\"data row0 col0\" >0</td> \n",
       "        <td id=\"T_f940f36c_3c4c_11e7_81a8_109add6da4a2row0_col1\" class=\"data row0 col1\" >red</td> \n",
       "    </tr>    <tr> \n",
       "        <th id=\"T_f940f36c_3c4c_11e7_81a8_109add6da4a2\" class=\"row_heading level0 row1\" >1</th> \n",
       "        <td id=\"T_f940f36c_3c4c_11e7_81a8_109add6da4a2row1_col0\" class=\"data row1 col0\" >1</td> \n",
       "        <td id=\"T_f940f36c_3c4c_11e7_81a8_109add6da4a2row1_col1\" class=\"data row1 col1\" >red</td> \n",
       "    </tr>    <tr> \n",
       "        <th id=\"T_f940f36c_3c4c_11e7_81a8_109add6da4a2\" class=\"row_heading level0 row2\" >2</th> \n",
       "        <td id=\"T_f940f36c_3c4c_11e7_81a8_109add6da4a2row2_col0\" class=\"data row2 col0\" >2</td> \n",
       "        <td id=\"T_f940f36c_3c4c_11e7_81a8_109add6da4a2row2_col1\" class=\"data row2 col1\" >blue</td> \n",
       "    </tr>    <tr> \n",
       "        <th id=\"T_f940f36c_3c4c_11e7_81a8_109add6da4a2\" class=\"row_heading level0 row3\" >3</th> \n",
       "        <td id=\"T_f940f36c_3c4c_11e7_81a8_109add6da4a2row3_col0\" class=\"data row3 col0\" >3</td> \n",
       "        <td id=\"T_f940f36c_3c4c_11e7_81a8_109add6da4a2row3_col1\" class=\"data row3 col1\" >red</td> \n",
       "    </tr>    <tr> \n",
       "        <th id=\"T_f940f36c_3c4c_11e7_81a8_109add6da4a2\" class=\"row_heading level0 row4\" >4</th> \n",
       "        <td id=\"T_f940f36c_3c4c_11e7_81a8_109add6da4a2row4_col0\" class=\"data row4 col0\" >4</td> \n",
       "        <td id=\"T_f940f36c_3c4c_11e7_81a8_109add6da4a2row4_col1\" class=\"data row4 col1\" >blue</td> \n",
       "    </tr>    <tr> \n",
       "        <th id=\"T_f940f36c_3c4c_11e7_81a8_109add6da4a2\" class=\"row_heading level0 row5\" >5</th> \n",
       "        <td id=\"T_f940f36c_3c4c_11e7_81a8_109add6da4a2row5_col0\" class=\"data row5 col0\" >5</td> \n",
       "        <td id=\"T_f940f36c_3c4c_11e7_81a8_109add6da4a2row5_col1\" class=\"data row5 col1\" >blue</td> \n",
       "    </tr>    <tr> \n",
       "        <th id=\"T_f940f36c_3c4c_11e7_81a8_109add6da4a2\" class=\"row_heading level0 row6\" >6</th> \n",
       "        <td id=\"T_f940f36c_3c4c_11e7_81a8_109add6da4a2row6_col0\" class=\"data row6 col0\" >6</td> \n",
       "        <td id=\"T_f940f36c_3c4c_11e7_81a8_109add6da4a2row6_col1\" class=\"data row6 col1\" >blue</td> \n",
       "    </tr>    <tr> \n",
       "        <th id=\"T_f940f36c_3c4c_11e7_81a8_109add6da4a2\" class=\"row_heading level0 row7\" >7</th> \n",
       "        <td id=\"T_f940f36c_3c4c_11e7_81a8_109add6da4a2row7_col0\" class=\"data row7 col0\" >7</td> \n",
       "        <td id=\"T_f940f36c_3c4c_11e7_81a8_109add6da4a2row7_col1\" class=\"data row7 col1\" >red</td> \n",
       "    </tr>    <tr> \n",
       "        <th id=\"T_f940f36c_3c4c_11e7_81a8_109add6da4a2\" class=\"row_heading level0 row8\" >8</th> \n",
       "        <td id=\"T_f940f36c_3c4c_11e7_81a8_109add6da4a2row8_col0\" class=\"data row8 col0\" >8</td> \n",
       "        <td id=\"T_f940f36c_3c4c_11e7_81a8_109add6da4a2row8_col1\" class=\"data row8 col1\" >blue</td> \n",
       "    </tr>    <tr> \n",
       "        <th id=\"T_f940f36c_3c4c_11e7_81a8_109add6da4a2\" class=\"row_heading level0 row9\" >9</th> \n",
       "        <td id=\"T_f940f36c_3c4c_11e7_81a8_109add6da4a2row9_col0\" class=\"data row9 col0\" >9</td> \n",
       "        <td id=\"T_f940f36c_3c4c_11e7_81a8_109add6da4a2row9_col1\" class=\"data row9 col1\" >blue</td> \n",
       "    </tr></tbody> \n",
       "</table> "
      ],
      "text/plain": [
       "<pandas.io.formats.style.Styler at 0x104696f98>"
      ]
     },
     "execution_count": 6,
     "metadata": {},
     "output_type": "execute_result"
    }
   ],
   "source": [
    "pp(\n",
    "    n_different_users(spoilers.choose_color_assignment, n=10)\n",
    ")"
   ]
  },
  {
   "cell_type": "markdown",
   "metadata": {},
   "source": [
    "### ④ The proportion of user_ids that see red and blue is roughly 50-50"
   ]
  },
  {
   "cell_type": "code",
   "execution_count": 7,
   "metadata": {},
   "outputs": [
    {
     "data": {
      "text/html": [
       "<div>\n",
       "<style>\n",
       "    .dataframe thead tr:only-child th {\n",
       "        text-align: right;\n",
       "    }\n",
       "\n",
       "    .dataframe thead th {\n",
       "        text-align: left;\n",
       "    }\n",
       "\n",
       "    .dataframe tbody tr th {\n",
       "        vertical-align: top;\n",
       "    }\n",
       "</style>\n",
       "<table border=\"1\" class=\"dataframe\">\n",
       "  <thead>\n",
       "    <tr style=\"text-align: right;\">\n",
       "      <th></th>\n",
       "      <th>user_id</th>\n",
       "    </tr>\n",
       "    <tr>\n",
       "      <th>color</th>\n",
       "      <th></th>\n",
       "    </tr>\n",
       "  </thead>\n",
       "  <tbody>\n",
       "    <tr>\n",
       "      <th>blue</th>\n",
       "      <td>4954</td>\n",
       "    </tr>\n",
       "    <tr>\n",
       "      <th>red</th>\n",
       "      <td>5046</td>\n",
       "    </tr>\n",
       "  </tbody>\n",
       "</table>\n",
       "</div>"
      ],
      "text/plain": [
       "       user_id\n",
       "color         \n",
       "blue      4954\n",
       "red       5046"
      ]
     },
     "execution_count": 7,
     "metadata": {},
     "output_type": "execute_result"
    }
   ],
   "source": [
    "n_different_users(spoilers.choose_color_assignment, n=10000).groupby('color').count()"
   ]
  },
  {
   "cell_type": "markdown",
   "metadata": {},
   "source": [
    "## Contents\n",
    "\n",
    "- **[0. Introduction](0.Introduction.ipynb)**: What a good `choose_color_assignment` function looks like.\n",
    "- **[1. Experimental Units](1.ExperimentalUnits.ipynb)**: What happens when I don't pay attention to experimental units.\n",
    "- **[2. Deterministic Assignment](2.DeterministicAssignment.ipynb)**: What it looks like to deterministically assign\n",
    "- **[3. Scaling](3.Scaling.ipynb)**: How not to run two experiments at the same time (salts)\n",
    "- **[4. Rollout](4.Rollout.ipynb)**: How to gradually show users a new experiment (assignment groups)"
   ]
  },
  {
   "cell_type": "markdown",
   "metadata": {},
   "source": [
    "# [Next : 1. Experimental Units](1.ExperimentalUnits.ipynb)\n",
    "\n",
    "Next, I'll try to implement experiment assignment."
   ]
  },
  {
   "cell_type": "markdown",
   "metadata": {},
   "source": [
    "# Appendix\n",
    "\n",
    "### Assumptions\n",
    "\n",
    " - I have enough users!\n",
    "\n",
    " - I can switch between variants on the fly. \n",
    "\n",
    " \n",
    "### Glossary\n",
    "\n",
    "Some words I throw around:\n",
    "\n",
    " - **Variant**: This is a change controlled by an experiment. In this example, \"red\" is a variant of the color experiment.\n",
    "\n",
    " - **Experimental unit**: This is what I want to assign to a variant. I'll use some identifier, like *user_id*\n",
    " \n",
    "### Read more\n",
    "\n",
    " - *Designing and Deploying Online Field Experiments* (Bakshy et al). Open sourced! http://facebook.github.io/planout/\n",
    " - *Controlled experiments on the web: survey and practical guide* (Kohavi et al)\n",
    " - *Overlapping Experiment Infrastructure: More, Better, Faster Experimentation* (Tang et al)\n",
    " - *From Infrastructure to Culture: A/B Testing Challenges in Large Scale Social Networks* (Xu et al)"
   ]
  },
  {
   "cell_type": "code",
   "execution_count": null,
   "metadata": {
    "collapsed": true
   },
   "outputs": [],
   "source": []
  }
 ],
 "metadata": {
  "kernelspec": {
   "display_name": "Python 3",
   "language": "python",
   "name": "python3"
  },
  "language_info": {
   "codemirror_mode": {
    "name": "ipython",
    "version": 3
   },
   "file_extension": ".py",
   "mimetype": "text/x-python",
   "name": "python",
   "nbconvert_exporter": "python",
   "pygments_lexer": "ipython3",
   "version": "3.5.2"
  }
 },
 "nbformat": 4,
 "nbformat_minor": 1
}
